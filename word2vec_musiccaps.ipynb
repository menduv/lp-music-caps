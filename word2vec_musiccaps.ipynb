{
  "nbformat": 4,
  "nbformat_minor": 0,
  "metadata": {
    "colab": {
      "provenance": [],
      "authorship_tag": "ABX9TyN5t5vUrwfhYQLLItpfKxL0",
      "include_colab_link": true
    },
    "kernelspec": {
      "name": "python3",
      "display_name": "Python 3"
    },
    "language_info": {
      "name": "python"
    }
  },
  "cells": [
    {
      "cell_type": "markdown",
      "metadata": {
        "id": "view-in-github",
        "colab_type": "text"
      },
      "source": [
        "<a href=\"https://colab.research.google.com/github/menduv/lp-music-caps/blob/main/word2vec_musiccaps.ipynb\" target=\"_parent\"><img src=\"https://colab.research.google.com/assets/colab-badge.svg\" alt=\"Open In Colab\"/></a>"
      ]
    },
    {
      "cell_type": "code",
      "source": [
        "!pip install gensim\n",
        "!pip install nltk"
      ],
      "metadata": {
        "id": "VKxDbaUydagC"
      },
      "execution_count": null,
      "outputs": []
    },
    {
      "cell_type": "code",
      "execution_count": 1,
      "metadata": {
        "id": "zfLFERT2c6VH"
      },
      "outputs": [],
      "source": [
        "import pandas as pd\n",
        "import pickle\n",
        "import os\n",
        "from gensim.models import Word2Vec"
      ]
    },
    {
      "cell_type": "code",
      "source": [
        "corpus_filename = \"my_corpus.pkl\""
      ],
      "metadata": {
        "id": "gqb1TN8vhq-H"
      },
      "execution_count": 2,
      "outputs": []
    },
    {
      "cell_type": "code",
      "source": [
        "with open(corpus_filename, 'rb') as file:\n",
        "    loaded_corpus = pickle.load(file)"
      ],
      "metadata": {
        "id": "I_fQZslihbv1"
      },
      "execution_count": 3,
      "outputs": []
    },
    {
      "cell_type": "code",
      "source": [
        "loaded_corpus[:5]"
      ],
      "metadata": {
        "colab": {
          "base_uri": "https://localhost:8080/"
        },
        "id": "Og_SHyJslxzp",
        "outputId": "e5626c48-efa8-4b1d-e1be-9f508222ce94"
      },
      "execution_count": 5,
      "outputs": [
        {
          "output_type": "execute_result",
          "data": {
            "text/plain": [
              "[['aggressive',\n",
              "  'confrontational',\n",
              "  'energetic',\n",
              "  'alternative',\n",
              "  'indie',\n",
              "  'rock',\n",
              "  'song',\n",
              "  'boasts',\n",
              "  'self-conscious',\n",
              "  'rowdy',\n",
              "  'bravado',\n",
              "  'heavy',\n",
              "  'punk',\n",
              "  'pop',\n",
              "  'rock',\n",
              "  'influence',\n",
              "  'filled',\n",
              "  'passionate',\n",
              "  'confident',\n",
              "  'gutsy',\n",
              "  'vocals',\n",
              "  'well',\n",
              "  'swaggering',\n",
              "  'urgency',\n",
              "  'anguished',\n",
              "  'distraught',\n",
              "  'feelings',\n",
              "  'cathartic',\n",
              "  'rebellious',\n",
              "  'lyrics',\n",
              "  'dramatic',\n",
              "  'delivery',\n",
              "  'street-smart',\n",
              "  'attitude',\n",
              "  'make',\n",
              "  'perfect',\n",
              "  'fit',\n",
              "  'anyone',\n",
              "  'seeking',\n",
              "  'cutting-edge',\n",
              "  'alternative',\n",
              "  'pop',\n",
              "  'rock',\n",
              "  'punk',\n",
              "  'rock',\n",
              "  'hardcore',\n",
              "  'punk',\n",
              "  'sound',\n",
              "  'also',\n",
              "  'featuring',\n",
              "  'summery',\n",
              "  'knotty',\n",
              "  'volatile',\n",
              "  'fiery',\n",
              "  'new',\n",
              "  'wave',\n",
              "  'vibe'],\n",
              " ['alternative',\n",
              "  'indie',\n",
              "  'rock',\n",
              "  'song',\n",
              "  'combines',\n",
              "  'giddy',\n",
              "  'rhythms',\n",
              "  'crunchy',\n",
              "  'guitar',\n",
              "  'riffs',\n",
              "  'angst-ridden',\n",
              "  'lyrics',\n",
              "  'evoking',\n",
              "  'anguished',\n",
              "  'distraught',\n",
              "  'emotions',\n",
              "  'still',\n",
              "  'maintaining',\n",
              "  'playful',\n",
              "  'fun',\n",
              "  'vibe',\n",
              "  \"'s\",\n",
              "  'perfect',\n",
              "  'hanging',\n",
              "  'driving',\n",
              "  'around',\n",
              "  'town',\n",
              "  'mix',\n",
              "  'punk',\n",
              "  'pop',\n",
              "  'pop',\n",
              "  'rock',\n",
              "  'influences',\n",
              "  'creates',\n",
              "  'unique',\n",
              "  'sound',\n",
              "  \"'s\",\n",
              "  'somewhere',\n",
              "  'alternative',\n",
              "  'pop',\n",
              "  'rock',\n",
              "  'rock',\n",
              "  'making',\n",
              "  'perfect',\n",
              "  'fans',\n",
              "  'genres'],\n",
              " ['song',\n",
              "  \"'s\",\n",
              "  'nashville',\n",
              "  'sound',\n",
              "  'countrypolitan',\n",
              "  'blends',\n",
              "  'together',\n",
              "  'array',\n",
              "  'emotions',\n",
              "  'captures',\n",
              "  'essence',\n",
              "  'guys',\n",
              "  'night',\n",
              "  'rollicking',\n",
              "  'yet',\n",
              "  'laid-back',\n",
              "  'mellow',\n",
              "  'sound',\n",
              "  'mixed',\n",
              "  'poignant',\n",
              "  'yearning',\n",
              "  'make',\n",
              "  'meaningful',\n",
              "  'connections',\n",
              "  'humorous',\n",
              "  'melancholy',\n",
              "  'storytelling',\n",
              "  'lyrics',\n",
              "  'literate',\n",
              "  'earthy',\n",
              "  'traditional',\n",
              "  'country',\n",
              "  'vibe',\n",
              "  'also',\n",
              "  'touching',\n",
              "  'progressive',\n",
              "  'country',\n",
              "  'themes',\n",
              "  'autumnal',\n",
              "  'late-night',\n",
              "  'setting',\n",
              "  'sets',\n",
              "  'scene',\n",
              "  'reflective',\n",
              "  'bittersweet',\n",
              "  'moments',\n",
              "  'evoke',\n",
              "  'restless',\n",
              "  'searching',\n",
              "  'spirit',\n",
              "  'organic',\n",
              "  'composition',\n",
              "  'wistful',\n",
              "  'dramatic',\n",
              "  'plaintive',\n",
              "  'making',\n",
              "  'perfect',\n",
              "  'addition',\n",
              "  'country',\n",
              "  'folk',\n",
              "  'playlist'],\n",
              " ['get',\n",
              "  'lost',\n",
              "  'captivating',\n",
              "  'sound',\n",
              "  'alternative',\n",
              "  'indie',\n",
              "  'rock',\n",
              "  'fused',\n",
              "  'pop',\n",
              "  'rock',\n",
              "  'indie',\n",
              "  'vibes',\n",
              "  'leave',\n",
              "  'wanting'],\n",
              " ['take',\n",
              "  'nostalgic',\n",
              "  'journey',\n",
              "  'memory',\n",
              "  'lane',\n",
              "  'sentimental',\n",
              "  'pop',\n",
              "  'rock',\n",
              "  'ballad',\n",
              "  'perfect',\n",
              "  'day',\n",
              "  'driving',\n",
              "  'lazy',\n",
              "  'sunday',\n",
              "  'afternoon',\n",
              "  'delicately',\n",
              "  'blending',\n",
              "  'soft',\n",
              "  'rock',\n",
              "  'gentle',\n",
              "  'country',\n",
              "  'pop',\n",
              "  'create',\n",
              "  'melancholic',\n",
              "  'yet',\n",
              "  'relaxing',\n",
              "  'atmosphere',\n",
              "  'intimate',\n",
              "  'lyrics',\n",
              "  'reflective',\n",
              "  'tone',\n",
              "  'captures',\n",
              "  'essence',\n",
              "  'classic',\n",
              "  'country',\n",
              "  'music']]"
            ]
          },
          "metadata": {},
          "execution_count": 5
        }
      ]
    },
    {
      "cell_type": "code",
      "source": [
        "# Train Word2Vec model\n",
        "# model = Word2Vec(sentences=loaded_corpus, vector_size=100, window=5, min_count=1, workers=4)\n",
        "# model.save(\"word2vec_model.bin\")\n",
        "\n",
        "# To load the model back\n",
        "loaded_model = Word2Vec.load(\"word2vec_model.bin\")\n",
        "\n",
        "# Access word vectors\n",
        "word_vector = loaded_model.wv['jazz']\n",
        "print(\"Word vector for 'jazz':\", word_vector)"
      ],
      "metadata": {
        "id": "zop80tmZekVv",
        "colab": {
          "base_uri": "https://localhost:8080/"
        },
        "outputId": "316c7d46-e921-4a62-8338-0af28436b68c"
      },
      "execution_count": 6,
      "outputs": [
        {
          "output_type": "stream",
          "name": "stdout",
          "text": [
            "Word vector for 'jazz': [ 0.08846588 -0.5417468   2.6855774  -1.1311628   2.3122911  -0.1819478\n",
            " -2.0569925  -1.9568878   2.619549   -0.42975932  1.6196777  -3.084789\n",
            "  0.73564625 -1.0073613   2.5267944   2.3178918   2.6769958  -0.16331723\n",
            " -0.8213356   1.2638775  -2.0114915   1.6119567  -3.406342    1.9049852\n",
            " -2.1514332  -0.47028193 -0.4931054   3.2178879   3.9791207  -3.6592386\n",
            "  4.8195634  -0.04399784 -1.5102005  -0.06735126  2.1066575   0.03037124\n",
            "  0.685587    1.267419    3.188189   -2.1115718   1.6763128  -1.0670993\n",
            " -0.9384926  -2.8912814  -1.969732    2.7623706  -3.267315   -0.34517062\n",
            "  1.5116295   0.61033124  0.332285    0.9888871  -3.3087425   3.1741233\n",
            "  2.202946    0.03766987  3.9484556   0.38010302 -1.2772338  -0.03459719\n",
            " -1.3172259   1.0038502  -0.41028053 -3.0808406  -3.3940096  -0.39907345\n",
            " -1.8302151  -0.38547322  1.0317763   0.35987127 -1.6133728   4.5263796\n",
            " -0.40908867  3.3758965  -3.9915633   0.15793344 -2.278884    0.87922734\n",
            "  0.19085903 -3.9465802  -3.7688239   1.8266839   0.8497907   5.68011\n",
            "  4.864779    1.2368591   1.354812    0.01254642  3.435957   -2.028027\n",
            "  0.34128973 -0.7836535  -1.6396188   2.8726947   0.6529924   0.03234706\n",
            " -2.572262    1.1959265  -4.0607405  -4.2020645 ]\n"
          ]
        }
      ]
    },
    {
      "cell_type": "code",
      "source": [],
      "metadata": {
        "id": "XGQL1LnepikG"
      },
      "execution_count": null,
      "outputs": []
    }
  ]
}