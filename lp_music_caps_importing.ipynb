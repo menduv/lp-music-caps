{
  "nbformat": 4,
  "nbformat_minor": 0,
  "metadata": {
    "colab": {
      "provenance": [],
      "mount_file_id": "1-bJ60qCZqmnpKiGM7ufouf_Dz4Dar2d1",
      "authorship_tag": "ABX9TyP/ldAvX9RDNRBBMGPuNzhs",
      "include_colab_link": true
    },
    "kernelspec": {
      "name": "python3",
      "display_name": "Python 3"
    },
    "language_info": {
      "name": "python"
    }
  },
  "cells": [
    {
      "cell_type": "markdown",
      "metadata": {
        "id": "view-in-github",
        "colab_type": "text"
      },
      "source": [
        "<a href=\"https://colab.research.google.com/github/menduv/lp-music-caps/blob/main/lp_music_caps_importing.ipynb\" target=\"_parent\"><img src=\"https://colab.research.google.com/assets/colab-badge.svg\" alt=\"Open In Colab\"/></a>"
      ]
    },
    {
      "cell_type": "code",
      "source": [
        "!pip install datasets"
      ],
      "metadata": {
        "id": "w5JeXx8kVh_3"
      },
      "execution_count": null,
      "outputs": []
    },
    {
      "cell_type": "code",
      "execution_count": 2,
      "metadata": {
        "id": "972Kgo37U96Q"
      },
      "outputs": [],
      "source": [
        "import os\n",
        "import random\n",
        "from datasets import load_dataset"
      ]
    },
    {
      "cell_type": "code",
      "source": [
        "from nltk.tokenize import word_tokenize\n",
        "from nltk.corpus import PlaintextCorpusReader\n",
        "import nltk\n",
        "nltk.download('punkt')\n",
        "nltk.download('stopwords')"
      ],
      "metadata": {
        "id": "2-QYjLp4ZTPh"
      },
      "execution_count": null,
      "outputs": []
    },
    {
      "cell_type": "code",
      "source": [
        "!huggingface-cli login"
      ],
      "metadata": {
        "colab": {
          "base_uri": "https://localhost:8080/"
        },
        "id": "IdRfzw6ZVo5R",
        "outputId": "c2fe7985-2311-4f83-abe4-9f4352b9989e"
      },
      "execution_count": 3,
      "outputs": [
        {
          "output_type": "stream",
          "name": "stdout",
          "text": [
            "\n",
            "    _|    _|  _|    _|    _|_|_|    _|_|_|  _|_|_|  _|      _|    _|_|_|      _|_|_|_|    _|_|      _|_|_|  _|_|_|_|\n",
            "    _|    _|  _|    _|  _|        _|          _|    _|_|    _|  _|            _|        _|    _|  _|        _|\n",
            "    _|_|_|_|  _|    _|  _|  _|_|  _|  _|_|    _|    _|  _|  _|  _|  _|_|      _|_|_|    _|_|_|_|  _|        _|_|_|\n",
            "    _|    _|  _|    _|  _|    _|  _|    _|    _|    _|    _|_|  _|    _|      _|        _|    _|  _|        _|\n",
            "    _|    _|    _|_|      _|_|_|    _|_|_|  _|_|_|  _|      _|    _|_|_|      _|        _|    _|    _|_|_|  _|_|_|_|\n",
            "\n",
            "    A token is already saved on your machine. Run `huggingface-cli whoami` to get more information or `huggingface-cli logout` if you want to log out.\n",
            "    Setting a new token will erase the existing one.\n",
            "    To login, `huggingface_hub` requires a token generated from https://huggingface.co/settings/tokens .\n",
            "Token: \n",
            "Add token as git credential? (Y/n) n\n",
            "Token is valid (permission: read).\n",
            "Your token has been saved to /root/.cache/huggingface/token\n",
            "Login successful\n"
          ]
        }
      ]
    },
    {
      "cell_type": "code",
      "source": [
        "msd_dataset = load_dataset('seungheondoh/LP-MusicCaps-MSD')"
      ],
      "metadata": {
        "id": "b_E715OAVS5P"
      },
      "execution_count": 4,
      "outputs": []
    },
    {
      "cell_type": "code",
      "source": [
        "msd_dataset['train']"
      ],
      "metadata": {
        "colab": {
          "base_uri": "https://localhost:8080/"
        },
        "id": "Jhb34HtPWMbS",
        "outputId": "86082663-6a19-4d9d-9041-a125042c0f53"
      },
      "execution_count": 5,
      "outputs": [
        {
          "output_type": "execute_result",
          "data": {
            "text/plain": [
              "Dataset({\n",
              "    features: ['track_id', 'title', 'artist_name', 'release', 'year', 'tag', 'caption_writing', 'caption_summary', 'caption_paraphrase', 'caption_attribute_prediction', 'path'],\n",
              "    num_rows: 444865\n",
              "})"
            ]
          },
          "metadata": {},
          "execution_count": 5
        }
      ]
    },
    {
      "cell_type": "code",
      "source": [
        "captions = msd_dataset['train']['caption_writing']"
      ],
      "metadata": {
        "id": "lstxjol-XyEM"
      },
      "execution_count": 6,
      "outputs": []
    },
    {
      "cell_type": "code",
      "source": [
        "captions[:5]"
      ],
      "metadata": {
        "colab": {
          "base_uri": "https://localhost:8080/"
        },
        "id": "pRB9EbD9XF8-",
        "outputId": "dd050190-253e-4b12-e7b2-7b0ccf5484e4"
      },
      "execution_count": 11,
      "outputs": [
        {
          "output_type": "execute_result",
          "data": {
            "text/plain": [
              "['This aggressive, confrontational, and energetic alternative indie rock song boasts self-conscious, rowdy bravado with heavy punk and pop rock influence, filled with passionate, confident, and gutsy vocals, as well as swaggering urgency, and anguished distraught feelings. Its cathartic and rebellious lyrics, dramatic delivery, and street-smart attitude make it a perfect fit for anyone seeking a cutting-edge, alternative pop rock, punk rock, or hardcore punk sound, while also featuring a summery, knotty, volatile, and fiery new wave vibe.',\n",
              " \"This alternative indie rock song combines giddy rhythms and crunchy guitar riffs with angst-ridden lyrics, evoking anguished distraught emotions while still maintaining a playful and fun vibe that's perfect for hanging out or driving around town. The mix of punk pop and pop rock influences creates a unique sound that's somewhere between alternative pop rock and rock, making it perfect for fans of all genres.\",\n",
              " \"This song's Nashville Sound Countrypolitan blends together an array of emotions that captures the essence of guys night out with its rollicking yet laid-back mellow sound, mixed with a poignant yearning to make meaningful connections through both humorous and melancholy storytelling. The lyrics are literate and earthy with a traditional country vibe, while also touching on progressive country themes. The autumnal and late-night setting sets the scene for reflective, bittersweet moments that evoke a restless and searching spirit. This organic composition is wistful, dramatic, and plaintive, making it the perfect addition to any country folk playlist.\",\n",
              " 'Get lost in the captivating sound of alternative indie rock fused with pop rock and indie vibes that will leave you wanting more.',\n",
              " 'Take a nostalgic journey down memory lane with this sentimental pop rock ballad perfect for day driving on a lazy Sunday afternoon, delicately blending soft rock and gentle country pop to create a melancholic yet relaxing atmosphere, where the intimate lyrics and reflective tone captures the essence of classic country music.']"
            ]
          },
          "metadata": {},
          "execution_count": 11
        }
      ]
    },
    {
      "cell_type": "code",
      "source": [
        "tokenized_sentences = [word_tokenize(sentence) for sentence in captions]"
      ],
      "metadata": {
        "id": "5kVxO9fxZant"
      },
      "execution_count": 9,
      "outputs": []
    },
    {
      "cell_type": "code",
      "source": [
        "tokenized_sentences[:5]"
      ],
      "metadata": {
        "colab": {
          "base_uri": "https://localhost:8080/"
        },
        "id": "Ba12dt2NaMFD",
        "outputId": "906b3014-0efe-46ce-8e79-7e7e08ed613f"
      },
      "execution_count": 12,
      "outputs": [
        {
          "output_type": "execute_result",
          "data": {
            "text/plain": [
              "[['This',\n",
              "  'aggressive',\n",
              "  ',',\n",
              "  'confrontational',\n",
              "  ',',\n",
              "  'and',\n",
              "  'energetic',\n",
              "  'alternative',\n",
              "  'indie',\n",
              "  'rock',\n",
              "  'song',\n",
              "  'boasts',\n",
              "  'self-conscious',\n",
              "  ',',\n",
              "  'rowdy',\n",
              "  'bravado',\n",
              "  'with',\n",
              "  'heavy',\n",
              "  'punk',\n",
              "  'and',\n",
              "  'pop',\n",
              "  'rock',\n",
              "  'influence',\n",
              "  ',',\n",
              "  'filled',\n",
              "  'with',\n",
              "  'passionate',\n",
              "  ',',\n",
              "  'confident',\n",
              "  ',',\n",
              "  'and',\n",
              "  'gutsy',\n",
              "  'vocals',\n",
              "  ',',\n",
              "  'as',\n",
              "  'well',\n",
              "  'as',\n",
              "  'swaggering',\n",
              "  'urgency',\n",
              "  ',',\n",
              "  'and',\n",
              "  'anguished',\n",
              "  'distraught',\n",
              "  'feelings',\n",
              "  '.',\n",
              "  'Its',\n",
              "  'cathartic',\n",
              "  'and',\n",
              "  'rebellious',\n",
              "  'lyrics',\n",
              "  ',',\n",
              "  'dramatic',\n",
              "  'delivery',\n",
              "  ',',\n",
              "  'and',\n",
              "  'street-smart',\n",
              "  'attitude',\n",
              "  'make',\n",
              "  'it',\n",
              "  'a',\n",
              "  'perfect',\n",
              "  'fit',\n",
              "  'for',\n",
              "  'anyone',\n",
              "  'seeking',\n",
              "  'a',\n",
              "  'cutting-edge',\n",
              "  ',',\n",
              "  'alternative',\n",
              "  'pop',\n",
              "  'rock',\n",
              "  ',',\n",
              "  'punk',\n",
              "  'rock',\n",
              "  ',',\n",
              "  'or',\n",
              "  'hardcore',\n",
              "  'punk',\n",
              "  'sound',\n",
              "  ',',\n",
              "  'while',\n",
              "  'also',\n",
              "  'featuring',\n",
              "  'a',\n",
              "  'summery',\n",
              "  ',',\n",
              "  'knotty',\n",
              "  ',',\n",
              "  'volatile',\n",
              "  ',',\n",
              "  'and',\n",
              "  'fiery',\n",
              "  'new',\n",
              "  'wave',\n",
              "  'vibe',\n",
              "  '.'],\n",
              " ['This',\n",
              "  'alternative',\n",
              "  'indie',\n",
              "  'rock',\n",
              "  'song',\n",
              "  'combines',\n",
              "  'giddy',\n",
              "  'rhythms',\n",
              "  'and',\n",
              "  'crunchy',\n",
              "  'guitar',\n",
              "  'riffs',\n",
              "  'with',\n",
              "  'angst-ridden',\n",
              "  'lyrics',\n",
              "  ',',\n",
              "  'evoking',\n",
              "  'anguished',\n",
              "  'distraught',\n",
              "  'emotions',\n",
              "  'while',\n",
              "  'still',\n",
              "  'maintaining',\n",
              "  'a',\n",
              "  'playful',\n",
              "  'and',\n",
              "  'fun',\n",
              "  'vibe',\n",
              "  'that',\n",
              "  \"'s\",\n",
              "  'perfect',\n",
              "  'for',\n",
              "  'hanging',\n",
              "  'out',\n",
              "  'or',\n",
              "  'driving',\n",
              "  'around',\n",
              "  'town',\n",
              "  '.',\n",
              "  'The',\n",
              "  'mix',\n",
              "  'of',\n",
              "  'punk',\n",
              "  'pop',\n",
              "  'and',\n",
              "  'pop',\n",
              "  'rock',\n",
              "  'influences',\n",
              "  'creates',\n",
              "  'a',\n",
              "  'unique',\n",
              "  'sound',\n",
              "  'that',\n",
              "  \"'s\",\n",
              "  'somewhere',\n",
              "  'between',\n",
              "  'alternative',\n",
              "  'pop',\n",
              "  'rock',\n",
              "  'and',\n",
              "  'rock',\n",
              "  ',',\n",
              "  'making',\n",
              "  'it',\n",
              "  'perfect',\n",
              "  'for',\n",
              "  'fans',\n",
              "  'of',\n",
              "  'all',\n",
              "  'genres',\n",
              "  '.'],\n",
              " ['This',\n",
              "  'song',\n",
              "  \"'s\",\n",
              "  'Nashville',\n",
              "  'Sound',\n",
              "  'Countrypolitan',\n",
              "  'blends',\n",
              "  'together',\n",
              "  'an',\n",
              "  'array',\n",
              "  'of',\n",
              "  'emotions',\n",
              "  'that',\n",
              "  'captures',\n",
              "  'the',\n",
              "  'essence',\n",
              "  'of',\n",
              "  'guys',\n",
              "  'night',\n",
              "  'out',\n",
              "  'with',\n",
              "  'its',\n",
              "  'rollicking',\n",
              "  'yet',\n",
              "  'laid-back',\n",
              "  'mellow',\n",
              "  'sound',\n",
              "  ',',\n",
              "  'mixed',\n",
              "  'with',\n",
              "  'a',\n",
              "  'poignant',\n",
              "  'yearning',\n",
              "  'to',\n",
              "  'make',\n",
              "  'meaningful',\n",
              "  'connections',\n",
              "  'through',\n",
              "  'both',\n",
              "  'humorous',\n",
              "  'and',\n",
              "  'melancholy',\n",
              "  'storytelling',\n",
              "  '.',\n",
              "  'The',\n",
              "  'lyrics',\n",
              "  'are',\n",
              "  'literate',\n",
              "  'and',\n",
              "  'earthy',\n",
              "  'with',\n",
              "  'a',\n",
              "  'traditional',\n",
              "  'country',\n",
              "  'vibe',\n",
              "  ',',\n",
              "  'while',\n",
              "  'also',\n",
              "  'touching',\n",
              "  'on',\n",
              "  'progressive',\n",
              "  'country',\n",
              "  'themes',\n",
              "  '.',\n",
              "  'The',\n",
              "  'autumnal',\n",
              "  'and',\n",
              "  'late-night',\n",
              "  'setting',\n",
              "  'sets',\n",
              "  'the',\n",
              "  'scene',\n",
              "  'for',\n",
              "  'reflective',\n",
              "  ',',\n",
              "  'bittersweet',\n",
              "  'moments',\n",
              "  'that',\n",
              "  'evoke',\n",
              "  'a',\n",
              "  'restless',\n",
              "  'and',\n",
              "  'searching',\n",
              "  'spirit',\n",
              "  '.',\n",
              "  'This',\n",
              "  'organic',\n",
              "  'composition',\n",
              "  'is',\n",
              "  'wistful',\n",
              "  ',',\n",
              "  'dramatic',\n",
              "  ',',\n",
              "  'and',\n",
              "  'plaintive',\n",
              "  ',',\n",
              "  'making',\n",
              "  'it',\n",
              "  'the',\n",
              "  'perfect',\n",
              "  'addition',\n",
              "  'to',\n",
              "  'any',\n",
              "  'country',\n",
              "  'folk',\n",
              "  'playlist',\n",
              "  '.'],\n",
              " ['Get',\n",
              "  'lost',\n",
              "  'in',\n",
              "  'the',\n",
              "  'captivating',\n",
              "  'sound',\n",
              "  'of',\n",
              "  'alternative',\n",
              "  'indie',\n",
              "  'rock',\n",
              "  'fused',\n",
              "  'with',\n",
              "  'pop',\n",
              "  'rock',\n",
              "  'and',\n",
              "  'indie',\n",
              "  'vibes',\n",
              "  'that',\n",
              "  'will',\n",
              "  'leave',\n",
              "  'you',\n",
              "  'wanting',\n",
              "  'more',\n",
              "  '.'],\n",
              " ['Take',\n",
              "  'a',\n",
              "  'nostalgic',\n",
              "  'journey',\n",
              "  'down',\n",
              "  'memory',\n",
              "  'lane',\n",
              "  'with',\n",
              "  'this',\n",
              "  'sentimental',\n",
              "  'pop',\n",
              "  'rock',\n",
              "  'ballad',\n",
              "  'perfect',\n",
              "  'for',\n",
              "  'day',\n",
              "  'driving',\n",
              "  'on',\n",
              "  'a',\n",
              "  'lazy',\n",
              "  'Sunday',\n",
              "  'afternoon',\n",
              "  ',',\n",
              "  'delicately',\n",
              "  'blending',\n",
              "  'soft',\n",
              "  'rock',\n",
              "  'and',\n",
              "  'gentle',\n",
              "  'country',\n",
              "  'pop',\n",
              "  'to',\n",
              "  'create',\n",
              "  'a',\n",
              "  'melancholic',\n",
              "  'yet',\n",
              "  'relaxing',\n",
              "  'atmosphere',\n",
              "  ',',\n",
              "  'where',\n",
              "  'the',\n",
              "  'intimate',\n",
              "  'lyrics',\n",
              "  'and',\n",
              "  'reflective',\n",
              "  'tone',\n",
              "  'captures',\n",
              "  'the',\n",
              "  'essence',\n",
              "  'of',\n",
              "  'classic',\n",
              "  'country',\n",
              "  'music',\n",
              "  '.']]"
            ]
          },
          "metadata": {},
          "execution_count": 12
        }
      ]
    },
    {
      "cell_type": "code",
      "source": [
        "# Remove stop words and punctuation\n",
        "from nltk.corpus import stopwords\n",
        "import string\n",
        "\n",
        "stop_words = set(stopwords.words('english'))\n",
        "punctuation = set(string.punctuation)"
      ],
      "metadata": {
        "id": "xqlWolrZalke"
      },
      "execution_count": 13,
      "outputs": []
    },
    {
      "cell_type": "code",
      "source": [
        "filtered_sentences = []\n",
        "#something has to be done about r&b\n",
        "for sentence in tokenized_sentences:\n",
        "    filtered_sentence = [word.lower() for word in sentence if word.lower() not in stop_words and word not in punctuation]\n",
        "    filtered_sentences.append(filtered_sentence)"
      ],
      "metadata": {
        "id": "0WuBsxTHbDWq"
      },
      "execution_count": 14,
      "outputs": []
    },
    {
      "cell_type": "code",
      "source": [
        "# Create a directory to store the corpus\n",
        "corpus_dir = \"musiccaps_corpus\"\n",
        "if not os.path.exists(corpus_dir):\n",
        "    os.makedirs(corpus_dir)"
      ],
      "metadata": {
        "id": "24QqNW2ubS7m"
      },
      "execution_count": 16,
      "outputs": []
    },
    {
      "cell_type": "code",
      "source": [
        "# Write each filtered sentence to a separate file in the corpus directory\n",
        "for i, filtered_sentence in enumerate(filtered_sentences):\n",
        "    with open(os.path.join(corpus_dir, f\"document_{i}.txt\"), \"w\") as file:\n",
        "        file.write(\" \".join(filtered_sentence))"
      ],
      "metadata": {
        "id": "8xk6HDLwcIgz"
      },
      "execution_count": 17,
      "outputs": []
    },
    {
      "cell_type": "code",
      "source": [
        "# Create a PlaintextCorpusReader to read the corpus\n",
        "corpus = PlaintextCorpusReader(corpus_dir, '.*\\.txt')\n",
        "\n",
        "# Now, you can use corpus.words(), corpus.sents(), etc.\n",
        "print(\"Words in the corpus:\", len(corpus.words()))\n",
        "print(\"Sentences in the corpus:\", len(corpus.sents()))"
      ],
      "metadata": {
        "colab": {
          "base_uri": "https://localhost:8080/"
        },
        "id": "fMnDhB-jcO5b",
        "outputId": "823cf84a-3764-4ae6-e66c-c44d51172737"
      },
      "execution_count": 18,
      "outputs": [
        {
          "output_type": "stream",
          "name": "stdout",
          "text": [
            "Words in the corpus: 10782158\n",
            "Sentences in the corpus: 444865\n"
          ]
        }
      ]
    },
    {
      "cell_type": "code",
      "source": [
        "import pickle\n",
        "\n",
        "# Save the filtered sentences using pickle\n",
        "corpus_filename = \"musiccaps_corpus.pkl\"\n",
        "with open(corpus_filename, 'wb') as file:\n",
        "    pickle.dump(filtered_sentences, file)"
      ],
      "metadata": {
        "id": "2oEit2YheM0Q"
      },
      "execution_count": 19,
      "outputs": []
    },
    {
      "cell_type": "code",
      "source": [
        "filtered_sentences[:5]"
      ],
      "metadata": {
        "colab": {
          "base_uri": "https://localhost:8080/"
        },
        "id": "OjYo-AQ-dX1T",
        "outputId": "3a70dcdb-fdaf-489c-a1b4-b8d621f5ca39"
      },
      "execution_count": 20,
      "outputs": [
        {
          "output_type": "execute_result",
          "data": {
            "text/plain": [
              "[['aggressive',\n",
              "  'confrontational',\n",
              "  'energetic',\n",
              "  'alternative',\n",
              "  'indie',\n",
              "  'rock',\n",
              "  'song',\n",
              "  'boasts',\n",
              "  'self-conscious',\n",
              "  'rowdy',\n",
              "  'bravado',\n",
              "  'heavy',\n",
              "  'punk',\n",
              "  'pop',\n",
              "  'rock',\n",
              "  'influence',\n",
              "  'filled',\n",
              "  'passionate',\n",
              "  'confident',\n",
              "  'gutsy',\n",
              "  'vocals',\n",
              "  'well',\n",
              "  'swaggering',\n",
              "  'urgency',\n",
              "  'anguished',\n",
              "  'distraught',\n",
              "  'feelings',\n",
              "  'cathartic',\n",
              "  'rebellious',\n",
              "  'lyrics',\n",
              "  'dramatic',\n",
              "  'delivery',\n",
              "  'street-smart',\n",
              "  'attitude',\n",
              "  'make',\n",
              "  'perfect',\n",
              "  'fit',\n",
              "  'anyone',\n",
              "  'seeking',\n",
              "  'cutting-edge',\n",
              "  'alternative',\n",
              "  'pop',\n",
              "  'rock',\n",
              "  'punk',\n",
              "  'rock',\n",
              "  'hardcore',\n",
              "  'punk',\n",
              "  'sound',\n",
              "  'also',\n",
              "  'featuring',\n",
              "  'summery',\n",
              "  'knotty',\n",
              "  'volatile',\n",
              "  'fiery',\n",
              "  'new',\n",
              "  'wave',\n",
              "  'vibe'],\n",
              " ['alternative',\n",
              "  'indie',\n",
              "  'rock',\n",
              "  'song',\n",
              "  'combines',\n",
              "  'giddy',\n",
              "  'rhythms',\n",
              "  'crunchy',\n",
              "  'guitar',\n",
              "  'riffs',\n",
              "  'angst-ridden',\n",
              "  'lyrics',\n",
              "  'evoking',\n",
              "  'anguished',\n",
              "  'distraught',\n",
              "  'emotions',\n",
              "  'still',\n",
              "  'maintaining',\n",
              "  'playful',\n",
              "  'fun',\n",
              "  'vibe',\n",
              "  \"'s\",\n",
              "  'perfect',\n",
              "  'hanging',\n",
              "  'driving',\n",
              "  'around',\n",
              "  'town',\n",
              "  'mix',\n",
              "  'punk',\n",
              "  'pop',\n",
              "  'pop',\n",
              "  'rock',\n",
              "  'influences',\n",
              "  'creates',\n",
              "  'unique',\n",
              "  'sound',\n",
              "  \"'s\",\n",
              "  'somewhere',\n",
              "  'alternative',\n",
              "  'pop',\n",
              "  'rock',\n",
              "  'rock',\n",
              "  'making',\n",
              "  'perfect',\n",
              "  'fans',\n",
              "  'genres'],\n",
              " ['song',\n",
              "  \"'s\",\n",
              "  'nashville',\n",
              "  'sound',\n",
              "  'countrypolitan',\n",
              "  'blends',\n",
              "  'together',\n",
              "  'array',\n",
              "  'emotions',\n",
              "  'captures',\n",
              "  'essence',\n",
              "  'guys',\n",
              "  'night',\n",
              "  'rollicking',\n",
              "  'yet',\n",
              "  'laid-back',\n",
              "  'mellow',\n",
              "  'sound',\n",
              "  'mixed',\n",
              "  'poignant',\n",
              "  'yearning',\n",
              "  'make',\n",
              "  'meaningful',\n",
              "  'connections',\n",
              "  'humorous',\n",
              "  'melancholy',\n",
              "  'storytelling',\n",
              "  'lyrics',\n",
              "  'literate',\n",
              "  'earthy',\n",
              "  'traditional',\n",
              "  'country',\n",
              "  'vibe',\n",
              "  'also',\n",
              "  'touching',\n",
              "  'progressive',\n",
              "  'country',\n",
              "  'themes',\n",
              "  'autumnal',\n",
              "  'late-night',\n",
              "  'setting',\n",
              "  'sets',\n",
              "  'scene',\n",
              "  'reflective',\n",
              "  'bittersweet',\n",
              "  'moments',\n",
              "  'evoke',\n",
              "  'restless',\n",
              "  'searching',\n",
              "  'spirit',\n",
              "  'organic',\n",
              "  'composition',\n",
              "  'wistful',\n",
              "  'dramatic',\n",
              "  'plaintive',\n",
              "  'making',\n",
              "  'perfect',\n",
              "  'addition',\n",
              "  'country',\n",
              "  'folk',\n",
              "  'playlist'],\n",
              " ['get',\n",
              "  'lost',\n",
              "  'captivating',\n",
              "  'sound',\n",
              "  'alternative',\n",
              "  'indie',\n",
              "  'rock',\n",
              "  'fused',\n",
              "  'pop',\n",
              "  'rock',\n",
              "  'indie',\n",
              "  'vibes',\n",
              "  'leave',\n",
              "  'wanting'],\n",
              " ['take',\n",
              "  'nostalgic',\n",
              "  'journey',\n",
              "  'memory',\n",
              "  'lane',\n",
              "  'sentimental',\n",
              "  'pop',\n",
              "  'rock',\n",
              "  'ballad',\n",
              "  'perfect',\n",
              "  'day',\n",
              "  'driving',\n",
              "  'lazy',\n",
              "  'sunday',\n",
              "  'afternoon',\n",
              "  'delicately',\n",
              "  'blending',\n",
              "  'soft',\n",
              "  'rock',\n",
              "  'gentle',\n",
              "  'country',\n",
              "  'pop',\n",
              "  'create',\n",
              "  'melancholic',\n",
              "  'yet',\n",
              "  'relaxing',\n",
              "  'atmosphere',\n",
              "  'intimate',\n",
              "  'lyrics',\n",
              "  'reflective',\n",
              "  'tone',\n",
              "  'captures',\n",
              "  'essence',\n",
              "  'classic',\n",
              "  'country',\n",
              "  'music']]"
            ]
          },
          "metadata": {},
          "execution_count": 20
        }
      ]
    },
    {
      "cell_type": "code",
      "source": [
        "from google.colab import  drive\n",
        "drive.mount('/drive')"
      ],
      "metadata": {
        "colab": {
          "base_uri": "https://localhost:8080/"
        },
        "id": "Kbm68SIcZN15",
        "outputId": "c7f74eb4-ba52-48cf-fc56-70c88e0c9377"
      },
      "execution_count": 28,
      "outputs": [
        {
          "output_type": "stream",
          "name": "stdout",
          "text": [
            "Drive already mounted at /drive; to attempt to forcibly remount, call drive.mount(\"/drive\", force_remount=True).\n"
          ]
        }
      ]
    }
  ]
}